{
  "nbformat": 4,
  "nbformat_minor": 0,
  "metadata": {
    "colab": {
      "name": "stackoverflow_eda.ipynb",
      "provenance": [],
      "collapsed_sections": []
    },
    "kernelspec": {
      "name": "python3",
      "display_name": "Python 3"
    },
    "language_info": {
      "name": "python"
    },
    "widgets": {
      "application/vnd.jupyter.widget-state+json": {
        "30c7aaeaa34446a89f8cb0559d900ed4": {
          "model_module": "@jupyter-widgets/controls",
          "model_name": "HBoxModel",
          "state": {
            "_view_name": "HBoxView",
            "_dom_classes": [],
            "_model_name": "HBoxModel",
            "_view_module": "@jupyter-widgets/controls",
            "_model_module_version": "1.5.0",
            "_view_count": null,
            "_view_module_version": "1.5.0",
            "box_style": "",
            "layout": "IPY_MODEL_22e5f9b7cc5b48e890a6c25c403bbd46",
            "_model_module": "@jupyter-widgets/controls",
            "children": [
              "IPY_MODEL_d4989621dc284ece9e555450ca088de5",
              "IPY_MODEL_347af06c1b2645208be0987e4f01185a"
            ]
          }
        },
        "22e5f9b7cc5b48e890a6c25c403bbd46": {
          "model_module": "@jupyter-widgets/base",
          "model_name": "LayoutModel",
          "state": {
            "_view_name": "LayoutView",
            "grid_template_rows": null,
            "right": null,
            "justify_content": null,
            "_view_module": "@jupyter-widgets/base",
            "overflow": null,
            "_model_module_version": "1.2.0",
            "_view_count": null,
            "flex_flow": null,
            "width": null,
            "min_width": null,
            "border": null,
            "align_items": null,
            "bottom": null,
            "_model_module": "@jupyter-widgets/base",
            "top": null,
            "grid_column": null,
            "overflow_y": null,
            "overflow_x": null,
            "grid_auto_flow": null,
            "grid_area": null,
            "grid_template_columns": null,
            "flex": null,
            "_model_name": "LayoutModel",
            "justify_items": null,
            "grid_row": null,
            "max_height": null,
            "align_content": null,
            "visibility": null,
            "align_self": null,
            "height": null,
            "min_height": null,
            "padding": null,
            "grid_auto_rows": null,
            "grid_gap": null,
            "max_width": null,
            "order": null,
            "_view_module_version": "1.2.0",
            "grid_template_areas": null,
            "object_position": null,
            "object_fit": null,
            "grid_auto_columns": null,
            "margin": null,
            "display": null,
            "left": null
          }
        },
        "d4989621dc284ece9e555450ca088de5": {
          "model_module": "@jupyter-widgets/controls",
          "model_name": "FloatProgressModel",
          "state": {
            "_view_name": "ProgressView",
            "style": "IPY_MODEL_5dc4e658fe7049718d0f3bfaaa2d79cc",
            "_dom_classes": [],
            "description": "100%",
            "_model_name": "FloatProgressModel",
            "bar_style": "success",
            "max": 3750994,
            "_view_module": "@jupyter-widgets/controls",
            "_model_module_version": "1.5.0",
            "value": 3750994,
            "_view_count": null,
            "_view_module_version": "1.5.0",
            "orientation": "horizontal",
            "min": 0,
            "description_tooltip": null,
            "_model_module": "@jupyter-widgets/controls",
            "layout": "IPY_MODEL_749be28b158c4c9b9a7654a2a9739d34"
          }
        },
        "347af06c1b2645208be0987e4f01185a": {
          "model_module": "@jupyter-widgets/controls",
          "model_name": "HTMLModel",
          "state": {
            "_view_name": "HTMLView",
            "style": "IPY_MODEL_47888de001234b9bb538d22f512c3cc2",
            "_dom_classes": [],
            "description": "",
            "_model_name": "HTMLModel",
            "placeholder": "​",
            "_view_module": "@jupyter-widgets/controls",
            "_model_module_version": "1.5.0",
            "value": " 3750994/3750994 [00:04&lt;00:00, 789657.34it/s]",
            "_view_count": null,
            "_view_module_version": "1.5.0",
            "description_tooltip": null,
            "_model_module": "@jupyter-widgets/controls",
            "layout": "IPY_MODEL_70ccbac1be4c43dc922537ab5393504e"
          }
        },
        "5dc4e658fe7049718d0f3bfaaa2d79cc": {
          "model_module": "@jupyter-widgets/controls",
          "model_name": "ProgressStyleModel",
          "state": {
            "_view_name": "StyleView",
            "_model_name": "ProgressStyleModel",
            "description_width": "initial",
            "_view_module": "@jupyter-widgets/base",
            "_model_module_version": "1.5.0",
            "_view_count": null,
            "_view_module_version": "1.2.0",
            "bar_color": null,
            "_model_module": "@jupyter-widgets/controls"
          }
        },
        "749be28b158c4c9b9a7654a2a9739d34": {
          "model_module": "@jupyter-widgets/base",
          "model_name": "LayoutModel",
          "state": {
            "_view_name": "LayoutView",
            "grid_template_rows": null,
            "right": null,
            "justify_content": null,
            "_view_module": "@jupyter-widgets/base",
            "overflow": null,
            "_model_module_version": "1.2.0",
            "_view_count": null,
            "flex_flow": null,
            "width": null,
            "min_width": null,
            "border": null,
            "align_items": null,
            "bottom": null,
            "_model_module": "@jupyter-widgets/base",
            "top": null,
            "grid_column": null,
            "overflow_y": null,
            "overflow_x": null,
            "grid_auto_flow": null,
            "grid_area": null,
            "grid_template_columns": null,
            "flex": null,
            "_model_name": "LayoutModel",
            "justify_items": null,
            "grid_row": null,
            "max_height": null,
            "align_content": null,
            "visibility": null,
            "align_self": null,
            "height": null,
            "min_height": null,
            "padding": null,
            "grid_auto_rows": null,
            "grid_gap": null,
            "max_width": null,
            "order": null,
            "_view_module_version": "1.2.0",
            "grid_template_areas": null,
            "object_position": null,
            "object_fit": null,
            "grid_auto_columns": null,
            "margin": null,
            "display": null,
            "left": null
          }
        },
        "47888de001234b9bb538d22f512c3cc2": {
          "model_module": "@jupyter-widgets/controls",
          "model_name": "DescriptionStyleModel",
          "state": {
            "_view_name": "StyleView",
            "_model_name": "DescriptionStyleModel",
            "description_width": "",
            "_view_module": "@jupyter-widgets/base",
            "_model_module_version": "1.5.0",
            "_view_count": null,
            "_view_module_version": "1.2.0",
            "_model_module": "@jupyter-widgets/controls"
          }
        },
        "70ccbac1be4c43dc922537ab5393504e": {
          "model_module": "@jupyter-widgets/base",
          "model_name": "LayoutModel",
          "state": {
            "_view_name": "LayoutView",
            "grid_template_rows": null,
            "right": null,
            "justify_content": null,
            "_view_module": "@jupyter-widgets/base",
            "overflow": null,
            "_model_module_version": "1.2.0",
            "_view_count": null,
            "flex_flow": null,
            "width": null,
            "min_width": null,
            "border": null,
            "align_items": null,
            "bottom": null,
            "_model_module": "@jupyter-widgets/base",
            "top": null,
            "grid_column": null,
            "overflow_y": null,
            "overflow_x": null,
            "grid_auto_flow": null,
            "grid_area": null,
            "grid_template_columns": null,
            "flex": null,
            "_model_name": "LayoutModel",
            "justify_items": null,
            "grid_row": null,
            "max_height": null,
            "align_content": null,
            "visibility": null,
            "align_self": null,
            "height": null,
            "min_height": null,
            "padding": null,
            "grid_auto_rows": null,
            "grid_gap": null,
            "max_width": null,
            "order": null,
            "_view_module_version": "1.2.0",
            "grid_template_areas": null,
            "object_position": null,
            "object_fit": null,
            "grid_auto_columns": null,
            "margin": null,
            "display": null,
            "left": null
          }
        },
        "10c258335fb04245a4ad53e9d5aa64ee": {
          "model_module": "@jupyter-widgets/controls",
          "model_name": "HBoxModel",
          "state": {
            "_view_name": "HBoxView",
            "_dom_classes": [],
            "_model_name": "HBoxModel",
            "_view_module": "@jupyter-widgets/controls",
            "_model_module_version": "1.5.0",
            "_view_count": null,
            "_view_module_version": "1.5.0",
            "box_style": "",
            "layout": "IPY_MODEL_af7d46e53b10424ca50f0f21efa80206",
            "_model_module": "@jupyter-widgets/controls",
            "children": [
              "IPY_MODEL_e5e9d95cca6b41c7a56df5a3fd06668d",
              "IPY_MODEL_14e8cd483d724fb9b65ab871b7d786ac"
            ]
          }
        },
        "af7d46e53b10424ca50f0f21efa80206": {
          "model_module": "@jupyter-widgets/base",
          "model_name": "LayoutModel",
          "state": {
            "_view_name": "LayoutView",
            "grid_template_rows": null,
            "right": null,
            "justify_content": null,
            "_view_module": "@jupyter-widgets/base",
            "overflow": null,
            "_model_module_version": "1.2.0",
            "_view_count": null,
            "flex_flow": null,
            "width": null,
            "min_width": null,
            "border": null,
            "align_items": null,
            "bottom": null,
            "_model_module": "@jupyter-widgets/base",
            "top": null,
            "grid_column": null,
            "overflow_y": null,
            "overflow_x": null,
            "grid_auto_flow": null,
            "grid_area": null,
            "grid_template_columns": null,
            "flex": null,
            "_model_name": "LayoutModel",
            "justify_items": null,
            "grid_row": null,
            "max_height": null,
            "align_content": null,
            "visibility": null,
            "align_self": null,
            "height": null,
            "min_height": null,
            "padding": null,
            "grid_auto_rows": null,
            "grid_gap": null,
            "max_width": null,
            "order": null,
            "_view_module_version": "1.2.0",
            "grid_template_areas": null,
            "object_position": null,
            "object_fit": null,
            "grid_auto_columns": null,
            "margin": null,
            "display": null,
            "left": null
          }
        },
        "e5e9d95cca6b41c7a56df5a3fd06668d": {
          "model_module": "@jupyter-widgets/controls",
          "model_name": "FloatProgressModel",
          "state": {
            "_view_name": "ProgressView",
            "style": "IPY_MODEL_84f9632778804f5ea350bb591cfba4a8",
            "_dom_classes": [],
            "description": "100%",
            "_model_name": "FloatProgressModel",
            "bar_style": "success",
            "max": 302,
            "_view_module": "@jupyter-widgets/controls",
            "_model_module_version": "1.5.0",
            "value": 302,
            "_view_count": null,
            "_view_module_version": "1.5.0",
            "orientation": "horizontal",
            "min": 0,
            "description_tooltip": null,
            "_model_module": "@jupyter-widgets/controls",
            "layout": "IPY_MODEL_8aad988743f04881b6f28a3cbc595046"
          }
        },
        "14e8cd483d724fb9b65ab871b7d786ac": {
          "model_module": "@jupyter-widgets/controls",
          "model_name": "HTMLModel",
          "state": {
            "_view_name": "HTMLView",
            "style": "IPY_MODEL_2f0c479194dd45338488e042d4bd1d96",
            "_dom_classes": [],
            "description": "",
            "_model_name": "HTMLModel",
            "placeholder": "​",
            "_view_module": "@jupyter-widgets/controls",
            "_model_module_version": "1.5.0",
            "value": " 302/302 [00:09&lt;00:00, 32.69it/s]",
            "_view_count": null,
            "_view_module_version": "1.5.0",
            "description_tooltip": null,
            "_model_module": "@jupyter-widgets/controls",
            "layout": "IPY_MODEL_81958072b8284e639f2e9eefd11c4b55"
          }
        },
        "84f9632778804f5ea350bb591cfba4a8": {
          "model_module": "@jupyter-widgets/controls",
          "model_name": "ProgressStyleModel",
          "state": {
            "_view_name": "StyleView",
            "_model_name": "ProgressStyleModel",
            "description_width": "initial",
            "_view_module": "@jupyter-widgets/base",
            "_model_module_version": "1.5.0",
            "_view_count": null,
            "_view_module_version": "1.2.0",
            "bar_color": null,
            "_model_module": "@jupyter-widgets/controls"
          }
        },
        "8aad988743f04881b6f28a3cbc595046": {
          "model_module": "@jupyter-widgets/base",
          "model_name": "LayoutModel",
          "state": {
            "_view_name": "LayoutView",
            "grid_template_rows": null,
            "right": null,
            "justify_content": null,
            "_view_module": "@jupyter-widgets/base",
            "overflow": null,
            "_model_module_version": "1.2.0",
            "_view_count": null,
            "flex_flow": null,
            "width": null,
            "min_width": null,
            "border": null,
            "align_items": null,
            "bottom": null,
            "_model_module": "@jupyter-widgets/base",
            "top": null,
            "grid_column": null,
            "overflow_y": null,
            "overflow_x": null,
            "grid_auto_flow": null,
            "grid_area": null,
            "grid_template_columns": null,
            "flex": null,
            "_model_name": "LayoutModel",
            "justify_items": null,
            "grid_row": null,
            "max_height": null,
            "align_content": null,
            "visibility": null,
            "align_self": null,
            "height": null,
            "min_height": null,
            "padding": null,
            "grid_auto_rows": null,
            "grid_gap": null,
            "max_width": null,
            "order": null,
            "_view_module_version": "1.2.0",
            "grid_template_areas": null,
            "object_position": null,
            "object_fit": null,
            "grid_auto_columns": null,
            "margin": null,
            "display": null,
            "left": null
          }
        },
        "2f0c479194dd45338488e042d4bd1d96": {
          "model_module": "@jupyter-widgets/controls",
          "model_name": "DescriptionStyleModel",
          "state": {
            "_view_name": "StyleView",
            "_model_name": "DescriptionStyleModel",
            "description_width": "",
            "_view_module": "@jupyter-widgets/base",
            "_model_module_version": "1.5.0",
            "_view_count": null,
            "_view_module_version": "1.2.0",
            "_model_module": "@jupyter-widgets/controls"
          }
        },
        "81958072b8284e639f2e9eefd11c4b55": {
          "model_module": "@jupyter-widgets/base",
          "model_name": "LayoutModel",
          "state": {
            "_view_name": "LayoutView",
            "grid_template_rows": null,
            "right": null,
            "justify_content": null,
            "_view_module": "@jupyter-widgets/base",
            "overflow": null,
            "_model_module_version": "1.2.0",
            "_view_count": null,
            "flex_flow": null,
            "width": null,
            "min_width": null,
            "border": null,
            "align_items": null,
            "bottom": null,
            "_model_module": "@jupyter-widgets/base",
            "top": null,
            "grid_column": null,
            "overflow_y": null,
            "overflow_x": null,
            "grid_auto_flow": null,
            "grid_area": null,
            "grid_template_columns": null,
            "flex": null,
            "_model_name": "LayoutModel",
            "justify_items": null,
            "grid_row": null,
            "max_height": null,
            "align_content": null,
            "visibility": null,
            "align_self": null,
            "height": null,
            "min_height": null,
            "padding": null,
            "grid_auto_rows": null,
            "grid_gap": null,
            "max_width": null,
            "order": null,
            "_view_module_version": "1.2.0",
            "grid_template_areas": null,
            "object_position": null,
            "object_fit": null,
            "grid_auto_columns": null,
            "margin": null,
            "display": null,
            "left": null
          }
        }
      }
    }
  },
  "cells": [
    {
      "cell_type": "code",
      "metadata": {
        "id": "_YoTezfJx1gZ"
      },
      "source": [
        "import numpy as np\n",
        "import pandas as pd\n",
        "import matplotlib.pyplot as plt\n",
        "from tqdm import tqdm_notebook\n",
        "from collections import Counter\n",
        "plt.rcParams['figure.figsize'] = (10.0, 10.0)\n"
      ],
      "execution_count": null,
      "outputs": []
    },
    {
      "cell_type": "code",
      "metadata": {
        "colab": {
          "base_uri": "https://localhost:8080/"
        },
        "id": "cB0eLB5QYwvH",
        "outputId": "f447d503-beab-4989-b3e0-309c29758b35"
      },
      "source": [
        "# Read the tags data\n",
        "tags_csv = \"https://stack-overflow-casestudy-datasets.s3.amazonaws.com/Tags.csv\"\n",
        "df_tags = pd.read_csv(tags_csv)\n",
        "\n",
        "# convert Tag to string\n",
        "df_tags['Tag'] = df_tags['Tag'].astype(str)\n",
        "# Rename the header name\n",
        "df_tags = df_tags.rename(columns={'Id': 'ParentId'})\n",
        "df_tags[\"ParentId\"].astype(int)\n",
        "print(df_tags.head(10))"
      ],
      "execution_count": null,
      "outputs": [
        {
          "output_type": "stream",
          "text": [
            "   ParentId                    Tag\n",
            "0        80                   flex\n",
            "1        80         actionscript-3\n",
            "2        80                    air\n",
            "3        90                    svn\n",
            "4        90            tortoisesvn\n",
            "5        90                 branch\n",
            "6        90  branching-and-merging\n",
            "7       120                    sql\n",
            "8       120                asp.net\n",
            "9       120                sitemap\n"
          ],
          "name": "stdout"
        }
      ]
    },
    {
      "cell_type": "code",
      "metadata": {
        "id": "Rdo3Pzx8aP1L"
      },
      "source": [
        "# Read answer data\n",
        "ans_csv = \"https://stack-overflow-casestudy-datasets.s3.amazonaws.com/Answers.csv\"\n",
        "df_ans = pd.read_csv(ans_csv, header=None, nrows=10000)\n"
      ],
      "execution_count": null,
      "outputs": []
    },
    {
      "cell_type": "code",
      "metadata": {
        "id": "LbG5YPUipe1R"
      },
      "source": [
        "df_ans.shape\n",
        "df_ans = df_ans.dropna()\n",
        "df_ans.columns = [\"Id\", \"OwnerUserId\", \"CreationDate\", \"ParentId\", \"Score\", \"Body\"]\n",
        "df_ans[\"ParentId\"] = pd.to_numeric(df_ans[\"ParentId\"], errors=\"coerce\")\n",
        "df_ans = df_ans.drop_duplicates(subset = [\"OwnerUserId\"])\n",
        "df_ans[\"OwnerUserId\"] = pd.to_numeric(df_ans[\"OwnerUserId\"], errors=\"coerce\")"
      ],
      "execution_count": null,
      "outputs": []
    },
    {
      "cell_type": "code",
      "metadata": {
        "id": "2ZujetL_mkq3"
      },
      "source": [
        "# Read the questions data\n",
        "questions_csv = \"https://stack-overflow-casestudy-datasets.s3.amazonaws.com/Questions.csv\"\n",
        "df_questions =  pd.read_csv(questions_csv, header=None, nrows=10000)\n",
        "df_questions = df_questions.dropna()\n",
        "df_questions.columns = [\"Id\", \"OwnerUserId\", \"CreationDate\", \"ClosedDate\", \"Score\", \"Title\", \"Body\"]"
      ],
      "execution_count": null,
      "outputs": []
    },
    {
      "cell_type": "code",
      "metadata": {
        "id": "X5GU2a9IP3xD"
      },
      "source": [
        "# chunksize = 100000\n",
        "# tfr = pd.read_csv(questions_csv, chunksize=chunksize, iterator=True,header=None)\n",
        "# # df_ques = pd.concat(tfr, ignore_index=True)\n",
        "# tfr.head()"
      ],
      "execution_count": null,
      "outputs": []
    },
    {
      "cell_type": "code",
      "metadata": {
        "id": "5daaqe3pGQSY"
      },
      "source": [
        "# first, drop columns where 'date' contains 'nan' (case-insensitive):\n",
        "df_questions.dropna()\n",
        "df_questions = df_questions.loc[~df_questions['CreationDate'].str.contains('nan', case=False)]\n",
        "\n",
        "# convert to datetime, if year is too low, will result in NaT:\n",
        "df_questions['CreationDate'] = pd.to_datetime(df_questions['CreationDate'], errors='coerce')"
      ],
      "execution_count": null,
      "outputs": []
    },
    {
      "cell_type": "code",
      "metadata": {
        "id": "QEbV3jetXSF0"
      },
      "source": [
        "# # first, drop columns where 'date' contains 'nan' (case-insensitive):\n",
        "# df_questions = df_questions.loc[~df_questions['ClosedDate'].str.contains('nan', case=False)]\n",
        "\n",
        "# # convert to datetime, if year is too low, will result in NaT:\n",
        "# df_questions['ClosedDate'] = pd.to_datetime(df_questions['ClosedDate'], errors='coerce')"
      ],
      "execution_count": null,
      "outputs": []
    },
    {
      "cell_type": "code",
      "metadata": {
        "id": "H-qoKvgEWoxU"
      },
      "source": [
        "df_questions = df_questions.loc[~df_questions['ClosedDate'].str.contains('nan', case=False)]\n",
        "\n",
        "# convert to datetime, if year is too low, will result in NaT:\n",
        "df_questions['ClosedDate'] = pd.to_datetime(df_questions['ClosedDate'], errors='coerce')"
      ],
      "execution_count": null,
      "outputs": []
    },
    {
      "cell_type": "code",
      "metadata": {
        "id": "uOtbwIDYaHg6"
      },
      "source": [
        "# Inner join answers and tags csv\n",
        "answers = pd.merge(df_tags, df_ans, \n",
        "                   on='ParentId', \n",
        "                   how='left')"
      ],
      "execution_count": null,
      "outputs": []
    },
    {
      "cell_type": "code",
      "metadata": {
        "colab": {
          "base_uri": "https://localhost:8080/"
        },
        "id": "PCNQffooboD3",
        "outputId": "ba6de154-4af9-43fa-a0db-1f65c0e55a18"
      },
      "source": [
        "# Read the users data\n",
        "users_csv = \"https://stack-overflow-casestudy-datasets.s3.amazonaws.com/Users.csv\"\n",
        "df_users = pd.read_csv(users_csv)\n",
        "df_users = df_users.dropna()\n",
        "# Drop unwated columns\n",
        "# df_users.drop(columns=['creation_date', 'last_access_date', 'views', 'up_votes', 'down_votes', 'question is voted up', 'answer is voted up', 'suggested edit is accepted'],inplace=True)\n",
        "# Remove duplicate entries\n",
        "df_users = df_users.drop_duplicates(subset = [\"display_name\", \"id\"])\n",
        "df_users = df_users[~(df_users['display_name'].isnull())]\n",
        "df_users['display_name'] = df_users['display_name'].astype(str)\n",
        "df_users = df_users.rename(columns={'id': 'OwnerUserId'})\n",
        "print(df_users.OwnerUserId.dtype)"
      ],
      "execution_count": null,
      "outputs": [
        {
          "output_type": "stream",
          "text": [
            "int64\n"
          ],
          "name": "stdout"
        }
      ]
    },
    {
      "cell_type": "code",
      "metadata": {
        "id": "muLfJ5SUuxNm"
      },
      "source": [
        "df_users.drop(columns=['creation_date', 'last_access_date', 'views', 'up_votes', 'down_votes'],inplace=True)"
      ],
      "execution_count": null,
      "outputs": []
    },
    {
      "cell_type": "code",
      "metadata": {
        "id": "11gjz2zgb2Lr"
      },
      "source": [
        "# Inner join answers and useres csv\n",
        "answers = answers.join(df_users, on='OwnerUserId', how='inner', lsuffix='_left', rsuffix='_right')"
      ],
      "execution_count": null,
      "outputs": []
    },
    {
      "cell_type": "code",
      "metadata": {
        "colab": {
          "base_uri": "https://localhost:8080/"
        },
        "id": "ytPimvIfvbg7",
        "outputId": "9826e80e-9118-4912-981e-e64d3ab4d3aa"
      },
      "source": [
        "answers.columns"
      ],
      "execution_count": null,
      "outputs": [
        {
          "output_type": "execute_result",
          "data": {
            "text/plain": [
              "Index(['OwnerUserId', 'ParentId', 'Tag', 'Id', 'OwnerUserId_left',\n",
              "       'CreationDate', 'Score', 'Body', 'Unnamed: 0', 'OwnerUserId_right',\n",
              "       'display_name', 'reputation'],\n",
              "      dtype='object')"
            ]
          },
          "metadata": {
            "tags": []
          },
          "execution_count": 74
        }
      ]
    },
    {
      "cell_type": "code",
      "metadata": {
        "colab": {
          "base_uri": "https://localhost:8080/",
          "height": 117,
          "referenced_widgets": [
            "30c7aaeaa34446a89f8cb0559d900ed4",
            "22e5f9b7cc5b48e890a6c25c403bbd46",
            "d4989621dc284ece9e555450ca088de5",
            "347af06c1b2645208be0987e4f01185a",
            "5dc4e658fe7049718d0f3bfaaa2d79cc",
            "749be28b158c4c9b9a7654a2a9739d34",
            "47888de001234b9bb538d22f512c3cc2",
            "70ccbac1be4c43dc922537ab5393504e"
          ]
        },
        "id": "DLupyLcXY3uC",
        "outputId": "82956c3c-dc7b-474b-8508-927cbef19ee9"
      },
      "source": [
        "\n",
        "# commonly used tags\n",
        "tags = list(df_tags['Tag'])\n",
        "all_tags = []\n",
        "for tag in tqdm_notebook(tags):\n",
        "    all_tags += tag.split(',')"
      ],
      "execution_count": null,
      "outputs": [
        {
          "output_type": "stream",
          "text": [
            "/usr/local/lib/python3.7/dist-packages/ipykernel_launcher.py:5: TqdmDeprecationWarning: This function will be removed in tqdm==5.0.0\n",
            "Please use `tqdm.notebook.tqdm` instead of `tqdm.tqdm_notebook`\n",
            "  \"\"\"\n"
          ],
          "name": "stderr"
        },
        {
          "output_type": "display_data",
          "data": {
            "application/vnd.jupyter.widget-view+json": {
              "model_id": "30c7aaeaa34446a89f8cb0559d900ed4",
              "version_minor": 0,
              "version_major": 2
            },
            "text/plain": [
              "HBox(children=(FloatProgress(value=0.0, max=3750994.0), HTML(value='')))"
            ]
          },
          "metadata": {
            "tags": []
          }
        },
        {
          "output_type": "stream",
          "text": [
            "\n"
          ],
          "name": "stdout"
        }
      ]
    },
    {
      "cell_type": "code",
      "metadata": {
        "colab": {
          "base_uri": "https://localhost:8080/",
          "height": 621
        },
        "id": "J5Rm3-RvY6AX",
        "outputId": "0394c154-7be2-4d34-9ac6-83597fd45824"
      },
      "source": [
        "count_tags = Counter(all_tags)\n",
        "tags = pd.DataFrame([list(count_tags.keys()), list(count_tags.values())])\n",
        "tags = tags.transpose()\n",
        "tags.columns = ['tag', 'count']\n",
        "tags = tags.sort_values(by='count', ascending=False)\n",
        "\n",
        "data_science = ['python', 'r', 'matlab', 'sas', 'excel', 'sql']\n",
        "x = []\n",
        "y = []\n",
        "\n",
        "for tag in data_science:\n",
        "    index = list(tags['tag']).index(tag)\n",
        "    x.append(tag)\n",
        "    y.append(list(tags['count'])[index])\n",
        "\n",
        "\n",
        "plt.bar(x, y)\n",
        "plt.ylabel('Tag')\n",
        "plt.xlabel('Tag Raw-Count')\n",
        "plt.title('Popularity of Data Science Tags')\n",
        "plt.show()\n",
        "\n"
      ],
      "execution_count": null,
      "outputs": [
        {
          "output_type": "display_data",
          "data": {
            "image/png": "[encoded data removed]",
            "text/plain": [
              "<Figure size 720x720 with 1 Axes>"
            ]
          },
          "metadata": {
            "tags": [],
            "needs_background": "light"
          }
        }
      ]
    },
    {
      "cell_type": "code",
      "metadata": {
        "id": "oX2Rg7a8w8M3"
      },
      "source": [
        ""
      ],
      "execution_count": null,
      "outputs": []
    },
    {
      "cell_type": "code",
      "metadata": {
        "colab": {
          "base_uri": "https://localhost:8080/",
          "height": 117,
          "referenced_widgets": [
            "10c258335fb04245a4ad53e9d5aa64ee",
            "af7d46e53b10424ca50f0f21efa80206",
            "e5e9d95cca6b41c7a56df5a3fd06668d",
            "14e8cd483d724fb9b65ab871b7d786ac",
            "84f9632778804f5ea350bb591cfba4a8",
            "8aad988743f04881b6f28a3cbc595046",
            "2f0c479194dd45338488e042d4bd1d96",
            "81958072b8284e639f2e9eefd11c4b55"
          ]
        },
        "id": "9_sZKbQ9xkp5",
        "outputId": "27d44a99-4127-4544-f651-c3857c32cb65"
      },
      "source": [
        ""
      ],
      "execution_count": null,
      "outputs": [
        {
          "output_type": "stream",
          "text": [
            "/usr/local/lib/python3.7/dist-packages/ipykernel_launcher.py:2: TqdmDeprecationWarning: This function will be removed in tqdm==5.0.0\n",
            "Please use `tqdm.notebook.tqdm` instead of `tqdm.tqdm_notebook`\n",
            "  \n"
          ],
          "name": "stderr"
        },
        {
          "output_type": "display_data",
          "data": {
            "application/vnd.jupyter.widget-view+json": {
              "model_id": "10c258335fb04245a4ad53e9d5aa64ee",
              "version_minor": 0,
              "version_major": 2
            },
            "text/plain": [
              "HBox(children=(FloatProgress(value=0.0, max=302.0), HTML(value='')))"
            ]
          },
          "metadata": {
            "tags": []
          }
        },
        {
          "output_type": "stream",
          "text": [
            "\n"
          ],
          "name": "stdout"
        }
      ]
    },
    {
      "cell_type": "code",
      "metadata": {
        "id": "TnuBkKaVYXPd"
      },
      "source": [
        "\n",
        "# Filter required tags\n",
        "# required_tags = df_tags.loc[df_tags['Tag'].isin(['python', 'r', 'matlab', 'sas', 'excel', 'sql'])]\n",
        "\n",
        "def get_question_ids_by_tags(tag_list):\n",
        "  filter_tags = answers[answers['Tag'].isin(tag_list)]\n",
        "  return set(answers['ParentId'].tolist())\n",
        "\n",
        "def get_questionid_by_title(title):\n",
        "  filtered_data = df_questions[df_questions['Title'] == title]\n",
        "  return filtered_data['OwnerUserId']\n",
        "\n",
        "def get_tag_by_question_id(id):\n",
        "  filter_tags = answers[answers['ParentId'] == id]\n",
        "  return filter_tags['Tag'].tolist()\n",
        "\n",
        "def get_username_list_by_tag(id_list):\n",
        "  filter_user_names = df_users[df_users['OwnerUserId'].isin(id_list)]\n",
        "  return filter_user_names['display_name'].tolist()\n",
        "\n",
        "def get_question_ids_by_tag(tag):\n",
        "  filtered_data = df_tags[df_tags['Tag'] == tag]\n",
        "  return filtered_data['ParentId'].tolist()\n",
        "\n",
        "def get_data_by_question_ids(id_list):\n",
        "  filtered_data = df_questions[df_questions['Id'].isin(id_list)]\n",
        "  return filtered_data\n"
      ],
      "execution_count": null,
      "outputs": []
    },
    {
      "cell_type": "code",
      "metadata": {
        "colab": {
          "base_uri": "https://localhost:8080/"
        },
        "id": "TDguGHv5FydN",
        "outputId": "6c7555ed-b744-4396-a360-d2d20a1d3d78"
      },
      "source": [
        "df_questions.Title"
      ],
      "execution_count": null,
      "outputs": [
        {
          "output_type": "execute_result",
          "data": {
            "text/plain": [
              "0                                                   Title\n",
              "2       Good branching and merging tutorials for Torto...\n",
              "7                   Homegrown consumption of web services\n",
              "28                            Good STL-like library for C\n",
              "30             What are your favorite Powershell Cmdlets?\n",
              "                              ...                        \n",
              "9824    strange linq to nhibernate issue, Invalid cast...\n",
              "9857    Looking for a Command Line Argument Parser for...\n",
              "9899     What is the best implementation for AOP in .Net?\n",
              "9900                         Converting HTML files to PDF\n",
              "9969                   Best UI Library to use with jQuery\n",
              "Name: Title, Length: 586, dtype: object"
            ]
          },
          "metadata": {
            "tags": []
          },
          "execution_count": 54
        }
      ]
    },
    {
      "cell_type": "code",
      "metadata": {
        "colab": {
          "base_uri": "https://localhost:8080/"
        },
        "id": "Jf-LK7DtajZ4",
        "outputId": "6129f77a-c7a7-4384-82ba-0424c369fca0"
      },
      "source": [
        "df_questions.Id"
      ],
      "execution_count": null,
      "outputs": [
        {
          "output_type": "execute_result",
          "data": {
            "text/plain": [
              "0           Id\n",
              "2           90\n",
              "7          470\n",
              "28        2540\n",
              "30        2630\n",
              "         ...  \n",
              "9824    629480\n",
              "9857    631410\n",
              "9899    633710\n",
              "9900    633780\n",
              "9969    636910\n",
              "Name: Id, Length: 586, dtype: object"
            ]
          },
          "metadata": {
            "tags": []
          },
          "execution_count": 114
        }
      ]
    },
    {
      "cell_type": "code",
      "metadata": {
        "colab": {
          "base_uri": "https://localhost:8080/"
        },
        "id": "jegedI6AHHTD",
        "outputId": "55babb12-6c63-4e07-969a-ed017e14e917"
      },
      "source": [
        "get_questionid_by_title('Good STL-like library for C')"
      ],
      "execution_count": null,
      "outputs": [
        {
          "output_type": "execute_result",
          "data": {
            "text/plain": [
              "28    136\n",
              "Name: OwnerUserId, dtype: object"
            ]
          },
          "metadata": {
            "tags": []
          },
          "execution_count": 57
        }
      ]
    },
    {
      "cell_type": "code",
      "metadata": {
        "id": "faYCcufOYpY9"
      },
      "source": [
        "id_list = get_question_ids_by_tags([\"python\"])\n",
        "id_list"
      ],
      "execution_count": null,
      "outputs": []
    },
    {
      "cell_type": "code",
      "metadata": {
        "colab": {
          "base_uri": "https://localhost:8080/"
        },
        "id": "Jh8pjkK4BfsK",
        "outputId": "50a7b501-03ab-4949-cbfb-0e2700ba8e2c"
      },
      "source": [
        "id_list = get_tag_by_question_id(112010)\n",
        "id_list"
      ],
      "execution_count": null,
      "outputs": [
        {
          "output_type": "execute_result",
          "data": {
            "text/plain": [
              "['mysql', 'innodb']"
            ]
          },
          "metadata": {
            "tags": []
          },
          "execution_count": 59
        }
      ]
    },
    {
      "cell_type": "code",
      "metadata": {
        "colab": {
          "base_uri": "https://localhost:8080/"
        },
        "id": "TQiTATXbB3Hq",
        "outputId": "6601edf5-3726-405e-df8a-e843a874c329"
      },
      "source": [
        "# Task 1 - When a user raises a question with a data science tag ('python', 'r', 'matlab', 'sas', 'excel', 'sql'), \n",
        "#Stack Overflow sends the notification to the relevant users.\n",
        "get_username_list_by_tag(id_list)"
      ],
      "execution_count": null,
      "outputs": [
        {
          "output_type": "execute_result",
          "data": {
            "text/plain": [
              "['Tim Saunders',\n",
              " 'Gratzy',\n",
              " 'brasskazoo',\n",
              " 'Evan Teran',\n",
              " 'superlogical',\n",
              " 'aemkei',\n",
              " 'jpencola',\n",
              " 'wunki',\n",
              " 'squelart',\n",
              " 'Matthew Frederick',\n",
              " 'Rob Murdoch',\n",
              " 'Nikola SmiljaniÄ\\x87',\n",
              " 'Alex James',\n",
              " 'Milan',\n",
              " 'arbiter',\n",
              " 'jW.',\n",
              " 'mczepiel',\n",
              " 'james2m',\n",
              " 'Steve',\n",
              " 'Rich Dougherty',\n",
              " 'Shaun Rowan',\n",
              " 'Bryan Head',\n",
              " 'ruipacheco',\n",
              " 'Hibiscus',\n",
              " 'Matt Dressel']"
            ]
          },
          "metadata": {
            "tags": []
          },
          "execution_count": 47
        }
      ]
    },
    {
      "cell_type": "code",
      "metadata": {
        "id": "-MFVzW2Ue-DE"
      },
      "source": [
        "# When a user provides a data science tag ('python', 'r', 'matlab', 'sas', 'excel', 'sql') to their question, \n",
        "# Stack Overflow should come up with the expected approximate time to get it answered.\n",
        "get_question_ids_by_tag('python')"
      ],
      "execution_count": null,
      "outputs": []
    },
    {
      "cell_type": "code",
      "metadata": {
        "colab": {
          "base_uri": "https://localhost:8080/"
        },
        "id": "tkrJWjLRaPRf",
        "outputId": "78d1c96a-7841-4642-aacf-8a697d841ad3"
      },
      "source": [
        "data = get_data_by_question_ids([\"2540\"])\n",
        "data['duration'] = data.ClosedDate.max() - data.CreationDate.max()\n",
        "data.duration.mean()\n"
      ],
      "execution_count": null,
      "outputs": [
        {
          "output_type": "stream",
          "text": [
            "/usr/local/lib/python3.7/dist-packages/ipykernel_launcher.py:5: SettingWithCopyWarning: \n",
            "A value is trying to be set on a copy of a slice from a DataFrame.\n",
            "Try using .loc[row_indexer,col_indexer] = value instead\n",
            "\n",
            "See the caveats in the documentation: https://pandas.pydata.org/pandas-docs/stable/user_guide/indexing.html#returning-a-view-versus-a-copy\n",
            "  \"\"\"\n"
          ],
          "name": "stderr"
        },
        {
          "output_type": "execute_result",
          "data": {
            "text/plain": [
              "Timedelta('2066 days 23:05:51')"
            ]
          },
          "metadata": {
            "tags": []
          },
          "execution_count": 140
        }
      ]
    },
    {
      "cell_type": "code",
      "metadata": {
        "colab": {
          "base_uri": "https://localhost:8080/"
        },
        "id": "Gnxv4I-ntzEA",
        "outputId": "ef9b893d-0e48-40d0-9c88-ae1f895478be"
      },
      "source": [
        "data.ClosedDate\n"
      ],
      "execution_count": null,
      "outputs": [
        {
          "output_type": "execute_result",
          "data": {
            "text/plain": [
              "28   2014-04-03 15:36:28+00:00\n",
              "Name: ClosedDate, dtype: datetime64[ns, UTC]"
            ]
          },
          "metadata": {
            "tags": []
          },
          "execution_count": 142
        }
      ]
    },
    {
      "cell_type": "code",
      "metadata": {
        "colab": {
          "base_uri": "https://localhost:8080/"
        },
        "id": "FJQUl-xHt1mJ",
        "outputId": "c48b8622-5ace-4630-ebc4-573e917d4d81"
      },
      "source": [
        "data.CreationDate"
      ],
      "execution_count": null,
      "outputs": [
        {
          "output_type": "execute_result",
          "data": {
            "text/plain": [
              "28   2008-08-05 16:30:37+00:00\n",
              "Name: CreationDate, dtype: datetime64[ns, UTC]"
            ]
          },
          "metadata": {
            "tags": []
          },
          "execution_count": 143
        }
      ]
    }
  ]
}